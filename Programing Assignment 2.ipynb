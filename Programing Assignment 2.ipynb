{
 "cells": [
  {
   "cell_type": "markdown",
   "id": "079e8a29",
   "metadata": {},
   "source": [
    "1. Write a Python program to convert kilometers to miles?\n",
    "2. Write a Python program to convert Celsius to Fahrenheit?\n",
    "3. Write a Python program to display calendar?\n",
    "4. Write a Python program to solve quadratic equation?\n",
    "5. Write a Python program to swap two variables without temp variable?"
   ]
  },
  {
   "cell_type": "markdown",
   "id": "b185f95c",
   "metadata": {},
   "source": [
    "#Q1 :  Write a Python program to convert kilometers to miles?\n",
    "\n",
    "km = 2\n",
    "miles = 0.62\n",
    "convert = km*miles\n",
    "print(convert)"
   ]
  },
  {
   "cell_type": "markdown",
   "id": "301fa785",
   "metadata": {},
   "source": [
    "#Q2 : Write a Python program to convert Celsius to Fahrenheit?\n",
    "\n",
    "celcius = 30\n",
    "fahrenheit = (celcius*1.8)+ 32\n",
    "print(fahrenheit)"
   ]
  },
  {
   "cell_type": "markdown",
   "id": "06905bd5",
   "metadata": {},
   "source": [
    "#Q3 : Write a Python program to display calendar?\n",
    "\n",
    "import calendar\n",
    "\n",
    "year = 2022\n",
    "month = 8\n",
    "print(calendar.month(year,month))"
   ]
  },
  {
   "cell_type": "markdown",
   "id": "9cda3145",
   "metadata": {},
   "source": [
    "#Q4 : Write a Python program to solve quadratic equation?\n",
    "\n",
    "import cmath\n",
    "\n",
    "a = 2\n",
    "b = 4\n",
    "c = 6\n",
    "d = (b**2)-(4*a*c)\n",
    "\n",
    "sol1 = (-b-cmath.sqrt(d))/(2*a)\n",
    "sol2 = (-b+cmath.sqrt(d))/(2*a)\n",
    "print('The solution are {0} and {1}'.format(sol1,sol2))"
   ]
  },
  {
   "cell_type": "markdown",
   "id": "6cb771ec",
   "metadata": {},
   "source": [
    "Q5 :  Write a Python program to swap two variables without temp variable?\n",
    "    \n",
    "a = 5\n",
    "b = 10\n",
    "a,b = b,a\n",
    "print(\"a =\",a)\n",
    "print(\"b =\", b)"
   ]
  },
  {
   "cell_type": "code",
   "execution_count": null,
   "id": "1530b14d",
   "metadata": {},
   "outputs": [],
   "source": []
  }
 ],
 "metadata": {
  "kernelspec": {
   "display_name": "Python 3 (ipykernel)",
   "language": "python",
   "name": "python3"
  },
  "language_info": {
   "codemirror_mode": {
    "name": "ipython",
    "version": 3
   },
   "file_extension": ".py",
   "mimetype": "text/x-python",
   "name": "python",
   "nbconvert_exporter": "python",
   "pygments_lexer": "ipython3",
   "version": "3.9.12"
  }
 },
 "nbformat": 4,
 "nbformat_minor": 5
}
